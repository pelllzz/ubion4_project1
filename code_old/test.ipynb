{
 "cells": [
  {
   "cell_type": "markdown",
   "metadata": {},
   "source": [
    "* 분기별, 월별 예금은행 대출금리는 잘 나와있어서 생략합니다.\n",
    "* 전처리 할 때 read_csv, to_csv 이런 거 할 때 encoding=\"CP949\" 인코딩 옵션 넣어줘야 한글 안 깨져요\n",
    "* read_csv에 CP949 안 먹히면 UTF8로 해주세요 (아마)"
   ]
  },
  {
   "cell_type": "code",
   "execution_count": 1,
   "metadata": {},
   "outputs": [],
   "source": [
    "# 전처리를 위한 라이브러리 불러오기\n",
    "import pandas as pd\n",
    "import numpy as np"
   ]
  },
  {
   "cell_type": "code",
   "execution_count": 2,
   "metadata": {},
   "outputs": [],
   "source": [
    "# GDP는 아주 단순합니다\n",
    "# transpose()로 컬럼 세로로 만든 다음\n",
    "# 필요한 부분만 iloc 이용해서 추출해서 내보내면 끝\n",
    "\n",
    "gdp = pd.read_csv(\"../raw_data/국내총생산.csv\", encoding=\"UTF8\").transpose()\n",
    "gdp_real = gdp.iloc[4:].rename(columns={0:\"GDP\"})\n",
    "gdp_real.to_csv(\"../전처리/GDP.csv\", encoding=\"CP949\")"
   ]
  },
  {
   "cell_type": "code",
   "execution_count": 3,
   "metadata": {},
   "outputs": [],
   "source": [
    "# 소비자물가지수 데이터도 단순합니다\n",
    "# transpose()로 컬럼 세로로 만들어서\n",
    "# 필요한 부분을 추출하고 내보내면 끝\n",
    "\n",
    "sobija = pd.read_csv(\"../raw_data/소비자물가지수.csv\").transpose()\n",
    "sobija_real = sobija.iloc[5:].rename(columns={0:\"소비자물가지수\"})\n",
    "sobija_real.to_csv(\"../전처리/소비자물가지수.csv\", encoding=\"CP949\")"
   ]
  },
  {
   "cell_type": "code",
   "execution_count": 4,
   "metadata": {},
   "outputs": [
    {
     "data": {
      "text/html": [
       "<div>\n",
       "<style scoped>\n",
       "    .dataframe tbody tr th:only-of-type {\n",
       "        vertical-align: middle;\n",
       "    }\n",
       "\n",
       "    .dataframe tbody tr th {\n",
       "        vertical-align: top;\n",
       "    }\n",
       "\n",
       "    .dataframe thead th {\n",
       "        text-align: right;\n",
       "    }\n",
       "</style>\n",
       "<table border=\"1\" class=\"dataframe\">\n",
       "  <thead>\n",
       "    <tr style=\"text-align: right;\">\n",
       "      <th></th>\n",
       "      <th>index</th>\n",
       "      <th>0</th>\n",
       "    </tr>\n",
       "  </thead>\n",
       "  <tbody>\n",
       "    <tr>\n",
       "      <th>1</th>\n",
       "      <td>1986-01-01 09:00:00</td>\n",
       "      <td>27.682</td>\n",
       "    </tr>\n",
       "    <tr>\n",
       "      <th>2</th>\n",
       "      <td>1986-02-01 09:00:00</td>\n",
       "      <td>27.682</td>\n",
       "    </tr>\n",
       "    <tr>\n",
       "      <th>3</th>\n",
       "      <td>1986-03-01 09:00:00</td>\n",
       "      <td>27.724</td>\n",
       "    </tr>\n",
       "    <tr>\n",
       "      <th>4</th>\n",
       "      <td>1986-04-01 09:00:00</td>\n",
       "      <td>27.516</td>\n",
       "    </tr>\n",
       "    <tr>\n",
       "      <th>5</th>\n",
       "      <td>1986-05-01 09:00:00</td>\n",
       "      <td>27.392</td>\n",
       "    </tr>\n",
       "    <tr>\n",
       "      <th>...</th>\n",
       "      <td>...</td>\n",
       "      <td>...</td>\n",
       "    </tr>\n",
       "    <tr>\n",
       "      <th>435</th>\n",
       "      <td>2022-03-01 09:00:00</td>\n",
       "      <td>100.306</td>\n",
       "    </tr>\n",
       "    <tr>\n",
       "      <th>436</th>\n",
       "      <td>2022-04-01 09:00:00</td>\n",
       "      <td>100.517</td>\n",
       "    </tr>\n",
       "    <tr>\n",
       "      <th>437</th>\n",
       "      <td>2022-05-01 09:00:00</td>\n",
       "      <td>100.768</td>\n",
       "    </tr>\n",
       "    <tr>\n",
       "      <th>438</th>\n",
       "      <td>2022-06-01 09:00:00</td>\n",
       "      <td>100.869</td>\n",
       "    </tr>\n",
       "    <tr>\n",
       "      <th>439</th>\n",
       "      <td>2022-07-01 09:00:00</td>\n",
       "      <td>100.869</td>\n",
       "    </tr>\n",
       "  </tbody>\n",
       "</table>\n",
       "<p>439 rows × 2 columns</p>\n",
       "</div>"
      ],
      "text/plain": [
       "                   index        0\n",
       "1    1986-01-01 09:00:00   27.682\n",
       "2    1986-02-01 09:00:00   27.682\n",
       "3    1986-03-01 09:00:00   27.724\n",
       "4    1986-04-01 09:00:00   27.516\n",
       "5    1986-05-01 09:00:00   27.392\n",
       "..                   ...      ...\n",
       "435  2022-03-01 09:00:00  100.306\n",
       "436  2022-04-01 09:00:00  100.517\n",
       "437  2022-05-01 09:00:00  100.768\n",
       "438  2022-06-01 09:00:00  100.869\n",
       "439  2022-07-01 09:00:00  100.869\n",
       "\n",
       "[439 rows x 2 columns]"
      ]
     },
     "execution_count": 4,
     "metadata": {},
     "output_type": "execute_result"
    }
   ],
   "source": [
    "# 주택종합 매매가격지수, 전세가격지수 전처리\n",
    "\n",
    "# 매매가격지수 데이터 가져오기\n",
    "data = pd.read_excel(\"../raw_data/주택종합 매매가격지수_20220808.xlsx\")\n",
    "\n",
    "# 데이터 확인 후 필요한 부분만 추출해 회전하고 합치기\n",
    "data_s = data[0:1].transpose().reset_index().drop(index=0)\n",
    "\n",
    "# 데이터 확인 (필요없으면 주석처리)\n",
    "data_s"
   ]
  },
  {
   "cell_type": "code",
   "execution_count": 5,
   "metadata": {},
   "outputs": [],
   "source": [
    "# 시계열 처리 수행\n",
    "# 시계열 데이터로 전환\n",
    "data_s['index'] = pd.to_datetime(data_s['index'], format=\"%Y-%m-%d %HH:%M:%S\").dt.strftime(\"%Y-%m\")"
   ]
  },
  {
   "cell_type": "code",
   "execution_count": 6,
   "metadata": {},
   "outputs": [],
   "source": [
    "# CSV로 뽑아줍시다\n",
    "# 컬럼 이름 바꿔주는 rename에 값 바꿔주세요\n",
    "data_s.rename(columns={0:\"주택종합 매매가격지수\"}).reset_index(drop=True).to_csv(\"../전처리/주택종합_매매가격지수.csv\",encoding='CP949')"
   ]
  },
  {
   "cell_type": "code",
   "execution_count": 7,
   "metadata": {},
   "outputs": [],
   "source": [
    "# 전세가격 지수는 똑같으니까 한번에 갑니다\n",
    "\n",
    "data2 = pd.read_excel(\"../raw_data/주택종합 전세가격지수_20220808.xlsx\")\n",
    "data2_s = data2[0:1].transpose().reset_index().drop(index=0)\n",
    "data2_s['index'] = pd.to_datetime(data2_s['index'], format=\"%Y-%m-%d %HH:%M:%S\").dt.strftime(\"%Y-%m\")\n",
    "data2_s.rename(columns={0:\"주택종합 전세가격지수\"}).reset_index(drop=True).to_csv(\"../전처리/주택종합_전세가격지수.csv\",encoding='CP949')"
   ]
  },
  {
   "cell_type": "code",
   "execution_count": 8,
   "metadata": {},
   "outputs": [],
   "source": [
    "# 실업률 가봅시다 -> 실업자 위주로 갑시다\n",
    "job = pd.read_csv(\"../raw_data/연령별_경제활동인구_총괄_20220808152350(월별).csv\", encoding='CP949').transpose()\n",
    "\n",
    "# 임시로 데이터를 담아놓을 데이터프레임과 리스트 선언\n",
    "job_test = pd.DataFrame()\n",
    "job_test_real = []\n",
    "\n",
    "# 반복문으로 돌릴건데\n",
    "# 가져온 csv 파일 끝까지 돌릴 거고\n",
    "for i in range(len(job)):\n",
    "    # 맨 끝에 도달하면 탈출합니다\n",
    "    if(i*8-4 == len(job)+3): break\n",
    "    # 맨 처음 한 번은 건너 뜁니다 (우리가 원하는 데이터 값이 아니라서)\n",
    "    if(i==0): continue\n",
    "\n",
    "    # 실업률만 골라서 저장하고 있습니다\n",
    "    job_test = job.iloc[i*8-4]\n",
    "    # 실업률을 리스트에 저장하고 있습니다\n",
    "    job_test_real.append(job_test)\n",
    "\n",
    "# 불필요한 컬럼을 삭제하고, 컬럼의 이름을 바꿔서 내보내봅시다\n",
    "job_test_real_df = pd.DataFrame(job_test_real).drop(columns=[0]).rename(columns={1:\"15세 이상\", 2:\"15-19\", 3:\"20-29\", 4:\"30-39\", 5:\"40-49\", 6:\"50-59\", 7:\"60세 이상\", 8:\"15-64\", 9:\"15-24\", 10:\"15-29\"})\n",
    "\n",
    "# 실업자로 구하고 싶으면 i*8-4, len(job)+3 으로 변경해주세요\n",
    "# 실업률로 구하고 싶으면 i*8-1, len(job)+6 으로 변경해주세요\n",
    "# iloc로 필요한 성분을 조회해서 그 때 그 때 위치에 맞춰서 조정하면 다른 데이터도 뽑을 수 있을 거예요"
   ]
  },
  {
   "cell_type": "code",
   "execution_count": 9,
   "metadata": {},
   "outputs": [],
   "source": [
    "# index에 대한 시계열 처리 후 저장까지 갑시다\n",
    "\n",
    "job_test_real_df = job_test_real_df.reset_index()\n",
    "job_test_real_df['index'] = pd.to_datetime(job_test_real_df['index'], format=\"%Y.%m.\").dt.strftime(\"%Y-%m\")\n",
    "job_test_real_df.set_index('index').to_csv(\"../전처리/실업자_전처리(천명).csv\", encoding=\"CP949\")\n",
    "\n",
    "# 밑에 파일 이름 바꾸는 것도 잊지마세요 -> 괜히 덮어쓰기 처리 되면 돌리는 사람만 억울함"
   ]
  },
  {
   "cell_type": "code",
   "execution_count": 11,
   "metadata": {},
   "outputs": [],
   "source": [
    "# 코스피 지수 추출\n",
    "import pandas_datareader as pdd\n",
    "import datetime\n",
    "\n",
    "start = datetime.datetime(2004,1,1)\n",
    "end = datetime.datetime(2022,7,31)\n",
    "df_null = pdd.DataReader(\"^KS11\", \"yahoo\", start, end)\n",
    "df = df_null.dropna()\n",
    "\n",
    "df.to_csv(\"../전처리/kospi.csv\", encoding=\"CP949\")"
   ]
  },
  {
   "cell_type": "code",
   "execution_count": 12,
   "metadata": {},
   "outputs": [],
   "source": [
    "# 코스피200 지수 추출\n",
    "# 코스피 전체 지수는 야후 파이넨스에 잘만 있는데 코스피200은 부실하네요...\n",
    "\n",
    "# 코스피200에 대한 데이터는 따로 찾아주세요\n",
    "k_200 = pd.read_csv(\"../raw_data/종합주가지수_200.csv\", encoding=\"CP949\")\n",
    "\n",
    "# 시계열 처리\n",
    "k_200['일자'] = pd.to_datetime(k_200['일자'], format=\"%Y/%m/%d\").dt.strftime(\"%Y-%m-%d\")\n",
    "\n",
    "# 데이터가 최신순으로 나와있어서 재정렬 들어갑니다\n",
    "k_200 = k_200.sort_values('일자', ascending=True).reset_index(drop=True)\n",
    "k_200.to_csv(\"../전처리/kospi200.csv\", encoding='CP949')"
   ]
  }
 ],
 "metadata": {
  "kernelspec": {
   "display_name": "Python 3.10.4 64-bit",
   "language": "python",
   "name": "python3"
  },
  "language_info": {
   "codemirror_mode": {
    "name": "ipython",
    "version": 3
   },
   "file_extension": ".py",
   "mimetype": "text/x-python",
   "name": "python",
   "nbconvert_exporter": "python",
   "pygments_lexer": "ipython3",
   "version": "3.10.4"
  },
  "orig_nbformat": 4,
  "vscode": {
   "interpreter": {
    "hash": "d45b7667f15187787b62e9d1c54e096de9a2222ecb594bc9f5d6366f2c4af4e5"
   }
  }
 },
 "nbformat": 4,
 "nbformat_minor": 2
}
