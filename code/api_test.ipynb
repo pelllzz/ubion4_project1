{
 "cells": [
  {
   "cell_type": "code",
   "execution_count": 39,
   "metadata": {},
   "outputs": [],
   "source": [
    "import requests\n",
    "from urllib import parse\n",
    "import xmltodict\n",
    "import json\n",
    "import pprint\n",
    "import pandas as pd\n",
    "import sys\n",
    "\n",
    "url = 'http://apis.data.go.kr/B551408/hf-mbs-interest-info/mbs-list'\n",
    "\n",
    "#service_key = 'S2FVowz1DNDsqMySTKFm4WzO1X5d7bTH5UvJq0gU1z54pbvPmjARmJiZLFXNs7YAxpRzRGLfkMK6NFjeu2OMSw=='\n",
    "\n",
    "params = {'ServiceKey' : 'S2FVowz1DNDsqMySTKFm4WzO1X5d7bTH5UvJq0gU1z54pbvPmjARmJiZLFXNs7YAxpRzRGLfkMK6NFjeu2OMSw==',\n",
    "            'pageNo' : '1',\n",
    "            'numOfRows' : '30000',\n",
    "            'dataType' : 'XML'\n",
    "        }\n",
    "\n",
    "sys.stdout = open('test.txt', 'w')\n",
    "\n",
    "response = requests.get(url, params=params)\n",
    "result = xmltodict.parse(response.content)\n",
    "rows = result[\"response\"][\"body\"][\"items\"]['item']\n",
    "pp = pprint.PrettyPrinter(indent=4)\n",
    "print(pp.pprint(rows))\n",
    "\n",
    "sys.stdout.close()"
   ]
  }
 ],
 "metadata": {
  "kernelspec": {
   "display_name": "Python 3.10.4 64-bit",
   "language": "python",
   "name": "python3"
  },
  "language_info": {
   "codemirror_mode": {
    "name": "ipython",
    "version": 3
   },
   "file_extension": ".py",
   "mimetype": "text/x-python",
   "name": "python",
   "nbconvert_exporter": "python",
   "pygments_lexer": "ipython3",
   "version": "3.10.4"
  },
  "orig_nbformat": 4,
  "vscode": {
   "interpreter": {
    "hash": "d45b7667f15187787b62e9d1c54e096de9a2222ecb594bc9f5d6366f2c4af4e5"
   }
  }
 },
 "nbformat": 4,
 "nbformat_minor": 2
}
