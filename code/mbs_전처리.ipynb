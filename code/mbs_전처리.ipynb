{
 "cells": [
  {
   "cell_type": "code",
   "execution_count": 96,
   "metadata": {},
   "outputs": [],
   "source": [
    "# 전처리를 위한 라이브러리 불러오기\n",
    "import pandas as pd\n",
    "import numpy as np"
   ]
  },
  {
   "cell_type": "code",
   "execution_count": 97,
   "metadata": {},
   "outputs": [],
   "source": [
    "# MBS조기상환율 데이터 불러오기\n",
    "mbs1 = pd.read_csv(\"../raw_data/K-MBS_200406-200412.csv\", header=None)\n",
    "mbs2 = pd.read_csv(\"../raw_data/K-MBS_200501-201012.csv\", header=None)\n",
    "mbs3 = pd.read_csv(\"../raw_data/K-MBS_201101-201512.csv\", header=None)\n",
    "mbs4 = pd.read_csv(\"../raw_data/K-MBS_201601-202012.csv\", header=None)\n",
    "mbs5 = pd.read_csv(\"../raw_data/K-MBS_202101-202208.csv\", header=None)"
   ]
  },
  {
   "cell_type": "code",
   "execution_count": 98,
   "metadata": {},
   "outputs": [],
   "source": [
    "# 필요한 칼럼만 추출\n",
    "mbs1 = mbs1[[0,1,2,8]]\n",
    "mbs2 = mbs2[[0,1,2,8]]\n",
    "mbs3 = mbs3[[0,1,2,8]]\n",
    "mbs4 = mbs4[[0,1,2,8]]\n",
    "mbs5 = mbs5[[0,1,2,8]]"
   ]
  },
  {
   "cell_type": "code",
   "execution_count": 99,
   "metadata": {},
   "outputs": [],
   "source": [
    "# MBS 조기상환율 모든 연도 데이터 합치기\n",
    "mbs = pd.concat([mbs1, mbs2, mbs3, mbs4, mbs5], ignore_index=True).dropna()\n",
    "#mbs.reset_index(drop=False, inplace=True)\n",
    "\n",
    "# MBS만 들어간 데이터를 추출\n",
    "mbs2 = mbs.loc[mbs[0].str.contains('MBS', na = False),:]\n",
    "\n",
    "# 컬럼명 변경 후 전처리 결과 csv 파일로 저장\n",
    "mbs2 = mbs2.rename(columns={0:'발행회차', 1:'발행일자', 2:'기준월', 8:'만기전상환율'})\n",
    "mbs2.to_csv(\"../전처리/mbs_end.csv\", encoding='CP949')"
   ]
  },
  {
   "cell_type": "code",
   "execution_count": 100,
   "metadata": {},
   "outputs": [
    {
     "data": {
      "text/html": [
       "<div>\n",
       "<style scoped>\n",
       "    .dataframe tbody tr th:only-of-type {\n",
       "        vertical-align: middle;\n",
       "    }\n",
       "\n",
       "    .dataframe tbody tr th {\n",
       "        vertical-align: top;\n",
       "    }\n",
       "\n",
       "    .dataframe thead th {\n",
       "        text-align: right;\n",
       "    }\n",
       "</style>\n",
       "<table border=\"1\" class=\"dataframe\">\n",
       "  <thead>\n",
       "    <tr style=\"text-align: right;\">\n",
       "      <th></th>\n",
       "      <th>발행회차</th>\n",
       "      <th>발행일자</th>\n",
       "      <th>기준월</th>\n",
       "      <th>만기전상환율</th>\n",
       "    </tr>\n",
       "  </thead>\n",
       "  <tbody>\n",
       "    <tr>\n",
       "      <th>0</th>\n",
       "      <td>MBS 2004-07</td>\n",
       "      <td>2004-12-28</td>\n",
       "      <td>2004-12</td>\n",
       "      <td>0.34</td>\n",
       "    </tr>\n",
       "    <tr>\n",
       "      <th>1</th>\n",
       "      <td>MBS 2004-06</td>\n",
       "      <td>2004-11-30</td>\n",
       "      <td>2004-12</td>\n",
       "      <td>0.48</td>\n",
       "    </tr>\n",
       "    <tr>\n",
       "      <th>2</th>\n",
       "      <td>MBS 2004-06</td>\n",
       "      <td>2004-11-30</td>\n",
       "      <td>2004-11</td>\n",
       "      <td>0.33</td>\n",
       "    </tr>\n",
       "    <tr>\n",
       "      <th>3</th>\n",
       "      <td>MBS 2004-05</td>\n",
       "      <td>2004-10-28</td>\n",
       "      <td>2004-12</td>\n",
       "      <td>0.86</td>\n",
       "    </tr>\n",
       "    <tr>\n",
       "      <th>4</th>\n",
       "      <td>MBS 2004-05</td>\n",
       "      <td>2004-10-28</td>\n",
       "      <td>2004-11</td>\n",
       "      <td>0.06</td>\n",
       "    </tr>\n",
       "    <tr>\n",
       "      <th>...</th>\n",
       "      <td>...</td>\n",
       "      <td>...</td>\n",
       "      <td>...</td>\n",
       "      <td>...</td>\n",
       "    </tr>\n",
       "    <tr>\n",
       "      <th>38062</th>\n",
       "      <td>MBS 2004-01</td>\n",
       "      <td>2004-06-15</td>\n",
       "      <td>2021-05</td>\n",
       "      <td>0.00</td>\n",
       "    </tr>\n",
       "    <tr>\n",
       "      <th>38063</th>\n",
       "      <td>MBS 2004-01</td>\n",
       "      <td>2004-06-15</td>\n",
       "      <td>2021-04</td>\n",
       "      <td>0.00</td>\n",
       "    </tr>\n",
       "    <tr>\n",
       "      <th>38064</th>\n",
       "      <td>MBS 2004-01</td>\n",
       "      <td>2004-06-15</td>\n",
       "      <td>2021-03</td>\n",
       "      <td>0.00</td>\n",
       "    </tr>\n",
       "    <tr>\n",
       "      <th>38065</th>\n",
       "      <td>MBS 2004-01</td>\n",
       "      <td>2004-06-15</td>\n",
       "      <td>2021-02</td>\n",
       "      <td>0.00</td>\n",
       "    </tr>\n",
       "    <tr>\n",
       "      <th>38066</th>\n",
       "      <td>MBS 2004-01</td>\n",
       "      <td>2004-06-15</td>\n",
       "      <td>2021-01</td>\n",
       "      <td>0.00</td>\n",
       "    </tr>\n",
       "  </tbody>\n",
       "</table>\n",
       "<p>34717 rows × 4 columns</p>\n",
       "</div>"
      ],
      "text/plain": [
       "              발행회차        발행일자      기준월  만기전상환율\n",
       "0      MBS 2004-07  2004-12-28  2004-12    0.34\n",
       "1      MBS 2004-06  2004-11-30  2004-12    0.48\n",
       "2      MBS 2004-06  2004-11-30  2004-11    0.33\n",
       "3      MBS 2004-05  2004-10-28  2004-12    0.86\n",
       "4      MBS 2004-05  2004-10-28  2004-11    0.06\n",
       "...            ...         ...      ...     ...\n",
       "38062  MBS 2004-01  2004-06-15  2021-05    0.00\n",
       "38063  MBS 2004-01  2004-06-15  2021-04    0.00\n",
       "38064  MBS 2004-01  2004-06-15  2021-03    0.00\n",
       "38065  MBS 2004-01  2004-06-15  2021-02    0.00\n",
       "38066  MBS 2004-01  2004-06-15  2021-01    0.00\n",
       "\n",
       "[34717 rows x 4 columns]"
      ]
     },
     "execution_count": 100,
     "metadata": {},
     "output_type": "execute_result"
    }
   ],
   "source": [
    "mbs2"
   ]
  },
  {
   "cell_type": "code",
   "execution_count": null,
   "metadata": {},
   "outputs": [],
   "source": [
    "# MBS 조기상환율 발행일자, 발행회차 기준 평균내기\n",
    "mbs = mbs.groupby([\"발행일자\", \"발행회차\"])['만기전상환율'].apply(np.average)\n",
    "mbs = pd.DataFrame(mbs)\n",
    "mbs"
   ]
  },
  {
   "cell_type": "code",
   "execution_count": null,
   "metadata": {},
   "outputs": [],
   "source": [
    "# 발행금리 불러오기\n",
    "r = pd.read_csv('./datasets/MBS발행금리_20040101-20220810.csv')\n",
    "r = r[['발행회차', '발행일자', '가중평균발행금리']]"
   ]
  },
  {
   "cell_type": "code",
   "execution_count": null,
   "metadata": {},
   "outputs": [],
   "source": [
    "# MBS 조기상환율 & 발행금리 합치기\n",
    "mbs_r = pd.merge(mbs, r, how='left', on=['발행일자', '발행회차'])\n",
    "mbs_r"
   ]
  },
  {
   "cell_type": "code",
   "execution_count": null,
   "metadata": {},
   "outputs": [],
   "source": [
    "# 팔행일자, 발행회차 기준 데이터 정리\n",
    "mbs_r = mbs_r.set_index(['발행일자', '발행회차'])\n",
    "mbs_r"
   ]
  }
 ],
 "metadata": {
  "kernelspec": {
   "display_name": "Python 3.10.4 64-bit",
   "language": "python",
   "name": "python3"
  },
  "language_info": {
   "codemirror_mode": {
    "name": "ipython",
    "version": 3
   },
   "file_extension": ".py",
   "mimetype": "text/x-python",
   "name": "python",
   "nbconvert_exporter": "python",
   "pygments_lexer": "ipython3",
   "version": "3.10.4"
  },
  "orig_nbformat": 4,
  "vscode": {
   "interpreter": {
    "hash": "d45b7667f15187787b62e9d1c54e096de9a2222ecb594bc9f5d6366f2c4af4e5"
   }
  }
 },
 "nbformat": 4,
 "nbformat_minor": 2
}
